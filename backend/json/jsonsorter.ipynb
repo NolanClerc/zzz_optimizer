{
 "cells": [
  {
   "cell_type": "code",
   "execution_count": null,
   "metadata": {},
   "outputs": [],
   "source": [
    "import json\n",
    "import aiohttp\n",
    "import asyncio\n",
    "import nest_asyncio\n",
    "import os\n",
    "from typing import List\n",
    "\n",
    "nest_asyncio.apply()\n",
    "\n",
    "async def fetch_monster_json(session: aiohttp.ClientSession, monster_id: int) -> dict:\n",
    "    url = f\"https://api.hakush.in/zzz/data/en/monster/{monster_id}.json\"\n",
    "    try:\n",
    "        async with session.get(url) as response:\n",
    "            if response.status == 200:\n",
    "                return await response.json()\n",
    "            return None\n",
    "    except Exception as e:\n",
    "        print(f\"Error fetching monster {monster_id}: {e}\")\n",
    "        return None\n",
    "\n",
    "async def process_monsters():\n",
    "    # Create output directory if it doesn't exist\n",
    "    os.makedirs('json/monsters', exist_ok=True)\n",
    "    \n",
    "    # Load monster IDs\n",
    "    with open('json/monster.json', 'r', encoding='utf-8') as f:\n",
    "        monster_data = json.load(f)\n",
    "    \n",
    "    monster_ids = [int(monster_id) for monster_id in monster_data.keys()]\n",
    "    processed_count = 0\n",
    "    \n",
    "    async with aiohttp.ClientSession() as session:\n",
    "        for monster_id in monster_ids:\n",
    "            result = await fetch_monster_json(session, monster_id)\n",
    "            if result:\n",
    "                # Save each monster to its own file\n",
    "                output_file = f'json/monsters/{monster_id}.json'\n",
    "                with open(output_file, 'w', encoding='utf-8') as f:\n",
    "                    json.dump(result, f, indent=4, ensure_ascii=False)\n",
    "                processed_count += 1\n",
    "                print(f\"Successfully saved monster {monster_id}\")\n",
    "    \n",
    "    print(f\"Processed and saved {processed_count} individual monster files\")\n",
    "\n",
    "# Run the async function using event loop\n",
    "loop = asyncio.get_event_loop()\n",
    "loop.run_until_complete(process_monsters())\n"
   ]
  },
  {
   "cell_type": "code",
   "execution_count": null,
   "metadata": {},
   "outputs": [],
   "source": []
  }
 ],
 "metadata": {
  "kernelspec": {
   "display_name": "Python 3",
   "language": "python",
   "name": "python3"
  },
  "language_info": {
   "name": "python",
   "version": "3.11.9"
  }
 },
 "nbformat": 4,
 "nbformat_minor": 2
}
